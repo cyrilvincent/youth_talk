{
 "cells": [
  {
   "cell_type": "markdown",
   "id": "32fd9a79-6544-445b-ab62-89b35710c891",
   "metadata": {},
   "source": [
    "# NLTK"
   ]
  },
  {
   "cell_type": "code",
   "execution_count": 1,
   "id": "55e22bc2-3efb-4806-89bd-2c2c77b781b2",
   "metadata": {},
   "outputs": [
    {
     "name": "stdout",
     "output_type": "stream",
     "text": [
      "3.11.3 (tags/v3.11.3:f3909b8, Apr  4 2023, 23:49:59) [MSC v.1934 64 bit (AMD64)] 2.0.2 2.2.3 0.1.0.Alpha\n",
      "postgresql://postgres:sa@localhost:5432/yt1\n"
     ]
    }
   ],
   "source": [
    "import numpy as np\n",
    "import pandas as pd\n",
    "import config\n",
    "import jupyter_service\n",
    "import sys\n",
    "import matplotlib.pyplot as plt\n",
    "from dbcontext import Context\n",
    "from wordcloud import WordCloud, STOPWORDS, ImageColorGenerator\n",
    "pd.options.display.float_format = '{:.2f}'.format\n",
    "print(sys.version, np.__version__, pd.__version__, config.version)\n",
    "context = Context()\n",
    "context.create(echo=False)\n",
    "service = jupyter_service.JupyterService(context)\n",
    "nb_form=15854\n",
    "print(config.connection_string)"
   ]
  },
  {
   "cell_type": "code",
   "execution_count": 2,
   "id": "f26dba88-86f1-41ff-a5d9-11df3e0be9d3",
   "metadata": {},
   "outputs": [],
   "source": [
    "question_nb=12\n",
    "mode=\"nltk\""
   ]
  },
  {
   "cell_type": "markdown",
   "id": "bc48f7e8-8f45-49fe-83e0-69acc8634237",
   "metadata": {},
   "source": [
    "Stats"
   ]
  },
  {
   "cell_type": "code",
   "execution_count": 33,
   "id": "d7a2c45c-b7c4-47d3-b55c-11db596c0189",
   "metadata": {},
   "outputs": [
    {
     "data": {
      "text/html": [
       "<div>\n",
       "<style scoped>\n",
       "    .dataframe tbody tr th:only-of-type {\n",
       "        vertical-align: middle;\n",
       "    }\n",
       "\n",
       "    .dataframe tbody tr th {\n",
       "        vertical-align: top;\n",
       "    }\n",
       "\n",
       "    .dataframe thead th {\n",
       "        text-align: right;\n",
       "    }\n",
       "</style>\n",
       "<table border=\"1\" class=\"dataframe\">\n",
       "  <thead>\n",
       "    <tr style=\"text-align: right;\">\n",
       "      <th></th>\n",
       "      <th>average</th>\n",
       "      <th>median_</th>\n",
       "      <th>quartile</th>\n",
       "      <th>decile</th>\n",
       "      <th>percentile</th>\n",
       "    </tr>\n",
       "  </thead>\n",
       "  <tbody>\n",
       "    <tr>\n",
       "      <th>0</th>\n",
       "      <td>144.63</td>\n",
       "      <td>10.00</td>\n",
       "      <td>3.00</td>\n",
       "      <td>2.00</td>\n",
       "      <td>2.00</td>\n",
       "    </tr>\n",
       "  </tbody>\n",
       "</table>\n",
       "</div>"
      ],
      "text/plain": [
       "   average  median_  quartile  decile  percentile\n",
       "0   144.63    10.00      3.00    2.00        2.00"
      ]
     },
     "execution_count": 33,
     "metadata": {},
     "output_type": "execute_result"
    }
   ],
   "source": [
    "df = service.get_stats(mode)\n",
    "avg=float(df.iloc[0].average)\n",
    "median=float(df.iloc[0].median_)\n",
    "percentile=float(df.iloc[0].percentile)\n",
    "df"
   ]
  },
  {
   "cell_type": "markdown",
   "id": "33cdd649-59d5-42af-a350-deb388f0c91c",
   "metadata": {},
   "source": [
    "Empathy Positive Score"
   ]
  },
  {
   "cell_type": "code",
   "execution_count": 4,
   "id": "0cfaaaad-6151-4e9c-9849-87a1df24289c",
   "metadata": {},
   "outputs": [
    {
     "name": "stdout",
     "output_type": "stream",
     "text": [
      "pd positive score\n"
     ]
    },
    {
     "data": {
      "text/html": [
       "<div>\n",
       "<style scoped>\n",
       "    .dataframe tbody tr th:only-of-type {\n",
       "        vertical-align: middle;\n",
       "    }\n",
       "\n",
       "    .dataframe tbody tr th {\n",
       "        vertical-align: top;\n",
       "    }\n",
       "\n",
       "    .dataframe thead th {\n",
       "        text-align: right;\n",
       "    }\n",
       "</style>\n",
       "<table border=\"1\" class=\"dataframe\">\n",
       "  <thead>\n",
       "    <tr style=\"text-align: right;\">\n",
       "      <th></th>\n",
       "      <th>id</th>\n",
       "      <th>topic</th>\n",
       "      <th>nb_positive_form</th>\n",
       "      <th>nb_negative_form</th>\n",
       "      <th>score</th>\n",
       "    </tr>\n",
       "  </thead>\n",
       "  <tbody>\n",
       "    <tr>\n",
       "      <th>0</th>\n",
       "      <td>7681</td>\n",
       "      <td>wish</td>\n",
       "      <td>532</td>\n",
       "      <td>352</td>\n",
       "      <td>1.51</td>\n",
       "    </tr>\n",
       "    <tr>\n",
       "      <th>1</th>\n",
       "      <td>7691</td>\n",
       "      <td>person</td>\n",
       "      <td>213</td>\n",
       "      <td>155</td>\n",
       "      <td>1.37</td>\n",
       "    </tr>\n",
       "    <tr>\n",
       "      <th>2</th>\n",
       "      <td>7701</td>\n",
       "      <td>want</td>\n",
       "      <td>460</td>\n",
       "      <td>344</td>\n",
       "      <td>1.34</td>\n",
       "    </tr>\n",
       "    <tr>\n",
       "      <th>3</th>\n",
       "      <td>7808</td>\n",
       "      <td>become</td>\n",
       "      <td>214</td>\n",
       "      <td>161</td>\n",
       "      <td>1.33</td>\n",
       "    </tr>\n",
       "    <tr>\n",
       "      <th>4</th>\n",
       "      <td>7667</td>\n",
       "      <td>better</td>\n",
       "      <td>649</td>\n",
       "      <td>493</td>\n",
       "      <td>1.32</td>\n",
       "    </tr>\n",
       "    <tr>\n",
       "      <th>5</th>\n",
       "      <td>7694</td>\n",
       "      <td>world</td>\n",
       "      <td>866</td>\n",
       "      <td>724</td>\n",
       "      <td>1.20</td>\n",
       "    </tr>\n",
       "    <tr>\n",
       "      <th>6</th>\n",
       "      <td>7683</td>\n",
       "      <td>help</td>\n",
       "      <td>392</td>\n",
       "      <td>328</td>\n",
       "      <td>1.20</td>\n",
       "    </tr>\n",
       "    <tr>\n",
       "      <th>7</th>\n",
       "      <td>7684</td>\n",
       "      <td>able</td>\n",
       "      <td>209</td>\n",
       "      <td>175</td>\n",
       "      <td>1.19</td>\n",
       "    </tr>\n",
       "    <tr>\n",
       "      <th>8</th>\n",
       "      <td>7737</td>\n",
       "      <td>make</td>\n",
       "      <td>498</td>\n",
       "      <td>420</td>\n",
       "      <td>1.19</td>\n",
       "    </tr>\n",
       "    <tr>\n",
       "      <th>9</th>\n",
       "      <td>7659</td>\n",
       "      <td>everyone</td>\n",
       "      <td>302</td>\n",
       "      <td>255</td>\n",
       "      <td>1.18</td>\n",
       "    </tr>\n",
       "  </tbody>\n",
       "</table>\n",
       "</div>"
      ],
      "text/plain": [
       "     id     topic  nb_positive_form  nb_negative_form  score\n",
       "0  7681      wish               532               352   1.51\n",
       "1  7691    person               213               155   1.37\n",
       "2  7701      want               460               344   1.34\n",
       "3  7808    become               214               161   1.33\n",
       "4  7667    better               649               493   1.32\n",
       "5  7694     world               866               724   1.20\n",
       "6  7683      help               392               328   1.20\n",
       "7  7684      able               209               175   1.19\n",
       "8  7737      make               498               420   1.19\n",
       "9  7659  everyone               302               255   1.18"
      ]
     },
     "execution_count": 4,
     "metadata": {},
     "output_type": "execute_result"
    }
   ],
   "source": [
    "empathy_category=\"pd\"\n",
    "df = service.get_scores(mode, question_nb, empathy_category, positive=True, denominator_thresold=0, numerator_thresold=avg, debug=True)\n",
    "print(f\"{empathy_category} positive score\")\n",
    "df.head(10)"
   ]
  },
  {
   "cell_type": "code",
   "execution_count": 5,
   "id": "d10beb9b-6982-4c6c-bf3d-fc96b9712763",
   "metadata": {},
   "outputs": [
    {
     "name": "stdout",
     "output_type": "stream",
     "text": [
      "pd negative score\n"
     ]
    },
    {
     "data": {
      "text/html": [
       "<div>\n",
       "<style scoped>\n",
       "    .dataframe tbody tr th:only-of-type {\n",
       "        vertical-align: middle;\n",
       "    }\n",
       "\n",
       "    .dataframe tbody tr th {\n",
       "        vertical-align: top;\n",
       "    }\n",
       "\n",
       "    .dataframe thead th {\n",
       "        text-align: right;\n",
       "    }\n",
       "</style>\n",
       "<table border=\"1\" class=\"dataframe\">\n",
       "  <thead>\n",
       "    <tr style=\"text-align: right;\">\n",
       "      <th></th>\n",
       "      <th>id</th>\n",
       "      <th>topic</th>\n",
       "      <th>nb_negative_form</th>\n",
       "      <th>nb_positive_form</th>\n",
       "      <th>score</th>\n",
       "    </tr>\n",
       "  </thead>\n",
       "  <tbody>\n",
       "    <tr>\n",
       "      <th>0</th>\n",
       "      <td>7948</td>\n",
       "      <td>stability</td>\n",
       "      <td>161</td>\n",
       "      <td>103</td>\n",
       "      <td>1.56</td>\n",
       "    </tr>\n",
       "    <tr>\n",
       "      <th>1</th>\n",
       "      <td>7699</td>\n",
       "      <td>equality</td>\n",
       "      <td>169</td>\n",
       "      <td>139</td>\n",
       "      <td>1.22</td>\n",
       "    </tr>\n",
       "    <tr>\n",
       "      <th>2</th>\n",
       "      <td>7704</td>\n",
       "      <td>learn</td>\n",
       "      <td>215</td>\n",
       "      <td>179</td>\n",
       "      <td>1.20</td>\n",
       "    </tr>\n",
       "    <tr>\n",
       "      <th>3</th>\n",
       "      <td>7724</td>\n",
       "      <td>stop</td>\n",
       "      <td>147</td>\n",
       "      <td>126</td>\n",
       "      <td>1.17</td>\n",
       "    </tr>\n",
       "    <tr>\n",
       "      <th>4</th>\n",
       "      <td>7786</td>\n",
       "      <td>family</td>\n",
       "      <td>365</td>\n",
       "      <td>318</td>\n",
       "      <td>1.15</td>\n",
       "    </tr>\n",
       "    <tr>\n",
       "      <th>5</th>\n",
       "      <td>7898</td>\n",
       "      <td>financial</td>\n",
       "      <td>188</td>\n",
       "      <td>166</td>\n",
       "      <td>1.13</td>\n",
       "    </tr>\n",
       "    <tr>\n",
       "      <th>6</th>\n",
       "      <td>7722</td>\n",
       "      <td>give</td>\n",
       "      <td>152</td>\n",
       "      <td>135</td>\n",
       "      <td>1.13</td>\n",
       "    </tr>\n",
       "    <tr>\n",
       "      <th>7</th>\n",
       "      <td>7658</td>\n",
       "      <td>different</td>\n",
       "      <td>171</td>\n",
       "      <td>152</td>\n",
       "      <td>1.12</td>\n",
       "    </tr>\n",
       "    <tr>\n",
       "      <th>8</th>\n",
       "      <td>7790</td>\n",
       "      <td>free</td>\n",
       "      <td>209</td>\n",
       "      <td>187</td>\n",
       "      <td>1.12</td>\n",
       "    </tr>\n",
       "    <tr>\n",
       "      <th>9</th>\n",
       "      <td>7653</td>\n",
       "      <td>career</td>\n",
       "      <td>277</td>\n",
       "      <td>258</td>\n",
       "      <td>1.07</td>\n",
       "    </tr>\n",
       "  </tbody>\n",
       "</table>\n",
       "</div>"
      ],
      "text/plain": [
       "     id      topic  nb_negative_form  nb_positive_form  score\n",
       "0  7948  stability               161               103   1.56\n",
       "1  7699   equality               169               139   1.22\n",
       "2  7704      learn               215               179   1.20\n",
       "3  7724       stop               147               126   1.17\n",
       "4  7786     family               365               318   1.15\n",
       "5  7898  financial               188               166   1.13\n",
       "6  7722       give               152               135   1.13\n",
       "7  7658  different               171               152   1.12\n",
       "8  7790       free               209               187   1.12\n",
       "9  7653     career               277               258   1.07"
      ]
     },
     "execution_count": 5,
     "metadata": {},
     "output_type": "execute_result"
    }
   ],
   "source": [
    "empathy_category=\"pd\"\n",
    "df = service.get_scores(mode, question_nb, empathy_category, positive=False, denominator_thresold=0, numerator_thresold=avg)\n",
    "print(f\"{empathy_category} negative score\")\n",
    "df.head(10)\n"
   ]
  },
  {
   "cell_type": "markdown",
   "id": "c7889c79-d26d-45e3-b199-6a6e7da1ec43",
   "metadata": {},
   "source": [
    "Low Noise\n"
   ]
  },
  {
   "cell_type": "code",
   "execution_count": 29,
   "id": "182a0400-27b5-475a-a042-c7ec7fd96bc1",
   "metadata": {},
   "outputs": [
    {
     "name": "stdout",
     "output_type": "stream",
     "text": [
      "Low noise pd negative score\n"
     ]
    },
    {
     "data": {
      "text/html": [
       "<div>\n",
       "<style scoped>\n",
       "    .dataframe tbody tr th:only-of-type {\n",
       "        vertical-align: middle;\n",
       "    }\n",
       "\n",
       "    .dataframe tbody tr th {\n",
       "        vertical-align: top;\n",
       "    }\n",
       "\n",
       "    .dataframe thead th {\n",
       "        text-align: right;\n",
       "    }\n",
       "</style>\n",
       "<table border=\"1\" class=\"dataframe\">\n",
       "  <thead>\n",
       "    <tr style=\"text-align: right;\">\n",
       "      <th></th>\n",
       "      <th>id</th>\n",
       "      <th>topic</th>\n",
       "      <th>nb_negative_form</th>\n",
       "      <th>nb_positive_form</th>\n",
       "      <th>score</th>\n",
       "    </tr>\n",
       "  </thead>\n",
       "  <tbody>\n",
       "  </tbody>\n",
       "</table>\n",
       "</div>"
      ],
      "text/plain": [
       "Empty DataFrame\n",
       "Columns: [id, topic, nb_negative_form, nb_positive_form, score]\n",
       "Index: []"
      ]
     },
     "execution_count": 29,
     "metadata": {},
     "output_type": "execute_result"
    }
   ],
   "source": [
    "empathy_category=\"pd\"\n",
    "df = service.get_scores(mode, question_nb, empathy_category, positive=False, denominator_thresold=0, numerator_thresold=5)\n",
    "df=df[df.score > 6] \n",
    "print(f\"Low noise {empathy_category} negative score\")\n",
    "df.head(10)"
   ]
  },
  {
   "cell_type": "code",
   "execution_count": 32,
   "id": "7821b820-503d-4504-9069-4a0886cc9f46",
   "metadata": {},
   "outputs": [
    {
     "name": "stdout",
     "output_type": "stream",
     "text": [
      "Low noise pd negative score\n"
     ]
    },
    {
     "data": {
      "text/html": [
       "<div>\n",
       "<style scoped>\n",
       "    .dataframe tbody tr th:only-of-type {\n",
       "        vertical-align: middle;\n",
       "    }\n",
       "\n",
       "    .dataframe tbody tr th {\n",
       "        vertical-align: top;\n",
       "    }\n",
       "\n",
       "    .dataframe thead th {\n",
       "        text-align: right;\n",
       "    }\n",
       "</style>\n",
       "<table border=\"1\" class=\"dataframe\">\n",
       "  <thead>\n",
       "    <tr style=\"text-align: right;\">\n",
       "      <th></th>\n",
       "      <th>id</th>\n",
       "      <th>topic</th>\n",
       "      <th>nb_positive_form</th>\n",
       "      <th>nb_negative_form</th>\n",
       "      <th>score</th>\n",
       "    </tr>\n",
       "  </thead>\n",
       "  <tbody>\n",
       "    <tr>\n",
       "      <th>2</th>\n",
       "      <td>7813</td>\n",
       "      <td>levels</td>\n",
       "      <td>9</td>\n",
       "      <td>1.00</td>\n",
       "      <td>9.00</td>\n",
       "    </tr>\n",
       "    <tr>\n",
       "      <th>3</th>\n",
       "      <td>8510</td>\n",
       "      <td>whether</td>\n",
       "      <td>8</td>\n",
       "      <td>1.00</td>\n",
       "      <td>8.00</td>\n",
       "    </tr>\n",
       "    <tr>\n",
       "      <th>4</th>\n",
       "      <td>8301</td>\n",
       "      <td>officer</td>\n",
       "      <td>7</td>\n",
       "      <td>1.00</td>\n",
       "      <td>7.00</td>\n",
       "    </tr>\n",
       "  </tbody>\n",
       "</table>\n",
       "</div>"
      ],
      "text/plain": [
       "     id    topic  nb_positive_form  nb_negative_form  score\n",
       "2  7813   levels                 9              1.00   9.00\n",
       "3  8510  whether                 8              1.00   8.00\n",
       "4  8301  officer                 7              1.00   7.00"
      ]
     },
     "execution_count": 32,
     "metadata": {},
     "output_type": "execute_result"
    }
   ],
   "source": [
    "df = service.get_scores(mode, question_nb, empathy_category, positive=True, denominator_thresold=0, numerator_thresold=5)\n",
    "df=df[df.score > 6] \n",
    "print(f\"Low noise {empathy_category} negative score\")\n",
    "df.head(10)"
   ]
  },
  {
   "cell_type": "code",
   "execution_count": null,
   "id": "e2a900c2-568c-4057-8ad5-571761eb2215",
   "metadata": {},
   "outputs": [],
   "source": []
  }
 ],
 "metadata": {
  "kernelspec": {
   "display_name": "Python 3 (ipykernel)",
   "language": "python",
   "name": "python3"
  },
  "language_info": {
   "codemirror_mode": {
    "name": "ipython",
    "version": 3
   },
   "file_extension": ".py",
   "mimetype": "text/x-python",
   "name": "python",
   "nbconvert_exporter": "python",
   "pygments_lexer": "ipython3",
   "version": "3.11.3"
  }
 },
 "nbformat": 4,
 "nbformat_minor": 5
}
