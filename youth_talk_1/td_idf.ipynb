{
 "cells": [
  {
   "cell_type": "markdown",
   "id": "32fd9a79-6544-445b-ab62-89b35710c891",
   "metadata": {},
   "source": [
    "# Td Idf + Gestalt + NLTK"
   ]
  },
  {
   "cell_type": "code",
   "execution_count": 1,
   "id": "55e22bc2-3efb-4806-89bd-2c2c77b781b2",
   "metadata": {},
   "outputs": [
    {
     "name": "stdout",
     "output_type": "stream",
     "text": [
      "3.11.3 (tags/v3.11.3:f3909b8, Apr  4 2023, 23:49:59) [MSC v.1934 64 bit (AMD64)] 2.0.2 2.2.3 0.1.0.Alpha\n",
      "postgresql://postgres:sa@localhost:5432/yt1\n"
     ]
    }
   ],
   "source": [
    "import numpy as np\n",
    "import pandas as pd\n",
    "import config\n",
    "import jupyter_service\n",
    "import sys\n",
    "import matplotlib.pyplot as plt\n",
    "from dbcontext import Context\n",
    "from wordcloud import WordCloud, STOPWORDS, ImageColorGenerator\n",
    "pd.options.display.float_format = '{:.2f}'.format\n",
    "print(sys.version, np.__version__, pd.__version__, config.version)\n",
    "context = Context()\n",
    "context.create(echo=False)\n",
    "service = jupyter_service.JupyterService(context)\n",
    "print(config.connection_string)"
   ]
  },
  {
   "cell_type": "code",
   "execution_count": 2,
   "id": "5e0a33fc-4e82-45c4-b195-4d7523d0b1a4",
   "metadata": {},
   "outputs": [],
   "source": [
    "question_nb=12\n",
    "mode=\"tdidf\""
   ]
  },
  {
   "cell_type": "code",
   "execution_count": 3,
   "id": "5039fcaf-db33-42b9-88c2-28fc40267c11",
   "metadata": {},
   "outputs": [
    {
     "data": {
      "text/html": [
       "<div>\n",
       "<style scoped>\n",
       "    .dataframe tbody tr th:only-of-type {\n",
       "        vertical-align: middle;\n",
       "    }\n",
       "\n",
       "    .dataframe tbody tr th {\n",
       "        vertical-align: top;\n",
       "    }\n",
       "\n",
       "    .dataframe thead th {\n",
       "        text-align: right;\n",
       "    }\n",
       "</style>\n",
       "<table border=\"1\" class=\"dataframe\">\n",
       "  <thead>\n",
       "    <tr style=\"text-align: right;\">\n",
       "      <th></th>\n",
       "      <th>average</th>\n",
       "      <th>median_</th>\n",
       "      <th>quartile</th>\n",
       "      <th>decile</th>\n",
       "      <th>percentile</th>\n",
       "    </tr>\n",
       "  </thead>\n",
       "  <tbody>\n",
       "    <tr>\n",
       "      <th>0</th>\n",
       "      <td>51.24</td>\n",
       "      <td>13.00</td>\n",
       "      <td>5.00</td>\n",
       "      <td>3.00</td>\n",
       "      <td>2.00</td>\n",
       "    </tr>\n",
       "  </tbody>\n",
       "</table>\n",
       "</div>"
      ],
      "text/plain": [
       "   average  median_  quartile  decile  percentile\n",
       "0    51.24    13.00      5.00    3.00        2.00"
      ]
     },
     "execution_count": 3,
     "metadata": {},
     "output_type": "execute_result"
    }
   ],
   "source": [
    "df = service.get_stats(mode)\n",
    "avg=df.iloc[0].average\n",
    "median=df.iloc[0].median_\n",
    "percentile=df.iloc[0].percentile\n",
    "df"
   ]
  },
  {
   "cell_type": "markdown",
   "id": "3a147855-9352-4de6-81c5-ca313fb04cff",
   "metadata": {},
   "source": [
    "Empathy Positive Score"
   ]
  },
  {
   "cell_type": "code",
   "execution_count": 4,
   "id": "776b70dd-2847-4384-9dc5-ed25a602ef30",
   "metadata": {},
   "outputs": [
    {
     "name": "stdout",
     "output_type": "stream",
     "text": [
      "empathy positive score\n"
     ]
    },
    {
     "data": {
      "text/html": [
       "<div>\n",
       "<style scoped>\n",
       "    .dataframe tbody tr th:only-of-type {\n",
       "        vertical-align: middle;\n",
       "    }\n",
       "\n",
       "    .dataframe tbody tr th {\n",
       "        vertical-align: top;\n",
       "    }\n",
       "\n",
       "    .dataframe thead th {\n",
       "        text-align: right;\n",
       "    }\n",
       "</style>\n",
       "<table border=\"1\" class=\"dataframe\">\n",
       "  <thead>\n",
       "    <tr style=\"text-align: right;\">\n",
       "      <th></th>\n",
       "      <th>id</th>\n",
       "      <th>topic</th>\n",
       "      <th>score_positive_form</th>\n",
       "      <th>score_negative_form</th>\n",
       "      <th>score</th>\n",
       "    </tr>\n",
       "  </thead>\n",
       "  <tbody>\n",
       "    <tr>\n",
       "      <th>0</th>\n",
       "      <td>9790</td>\n",
       "      <td>love</td>\n",
       "      <td>130.56</td>\n",
       "      <td>1.87</td>\n",
       "      <td>69.72</td>\n",
       "    </tr>\n",
       "    <tr>\n",
       "      <th>1</th>\n",
       "      <td>9773</td>\n",
       "      <td>planet</td>\n",
       "      <td>64.52</td>\n",
       "      <td>0.97</td>\n",
       "      <td>66.71</td>\n",
       "    </tr>\n",
       "    <tr>\n",
       "      <th>2</th>\n",
       "      <td>9654</td>\n",
       "      <td>peaceful</td>\n",
       "      <td>62.79</td>\n",
       "      <td>0.94</td>\n",
       "      <td>66.62</td>\n",
       "    </tr>\n",
       "    <tr>\n",
       "      <th>3</th>\n",
       "      <td>9058</td>\n",
       "      <td>able</td>\n",
       "      <td>66.47</td>\n",
       "      <td>1.46</td>\n",
       "      <td>45.61</td>\n",
       "    </tr>\n",
       "    <tr>\n",
       "      <th>4</th>\n",
       "      <td>9487</td>\n",
       "      <td>health</td>\n",
       "      <td>124.04</td>\n",
       "      <td>3.38</td>\n",
       "      <td>36.70</td>\n",
       "    </tr>\n",
       "    <tr>\n",
       "      <th>5</th>\n",
       "      <td>9089</td>\n",
       "      <td>happy</td>\n",
       "      <td>215.32</td>\n",
       "      <td>5.97</td>\n",
       "      <td>36.04</td>\n",
       "    </tr>\n",
       "    <tr>\n",
       "      <th>6</th>\n",
       "      <td>9785</td>\n",
       "      <td>environment</td>\n",
       "      <td>66.55</td>\n",
       "      <td>1.90</td>\n",
       "      <td>35.09</td>\n",
       "    </tr>\n",
       "    <tr>\n",
       "      <th>7</th>\n",
       "      <td>9796</td>\n",
       "      <td>happiness</td>\n",
       "      <td>270.68</td>\n",
       "      <td>7.80</td>\n",
       "      <td>34.71</td>\n",
       "    </tr>\n",
       "    <tr>\n",
       "      <th>8</th>\n",
       "      <td>9797</td>\n",
       "      <td>change</td>\n",
       "      <td>55.86</td>\n",
       "      <td>1.92</td>\n",
       "      <td>29.05</td>\n",
       "    </tr>\n",
       "    <tr>\n",
       "      <th>9</th>\n",
       "      <td>9664</td>\n",
       "      <td>help</td>\n",
       "      <td>76.26</td>\n",
       "      <td>2.65</td>\n",
       "      <td>28.80</td>\n",
       "    </tr>\n",
       "  </tbody>\n",
       "</table>\n",
       "</div>"
      ],
      "text/plain": [
       "     id        topic  score_positive_form  score_negative_form  score\n",
       "0  9790         love               130.56                 1.87  69.72\n",
       "1  9773       planet                64.52                 0.97  66.71\n",
       "2  9654     peaceful                62.79                 0.94  66.62\n",
       "3  9058         able                66.47                 1.46  45.61\n",
       "4  9487       health               124.04                 3.38  36.70\n",
       "5  9089        happy               215.32                 5.97  36.04\n",
       "6  9785  environment                66.55                 1.90  35.09\n",
       "7  9796    happiness               270.68                 7.80  34.71\n",
       "8  9797       change                55.86                 1.92  29.05\n",
       "9  9664         help                76.26                 2.65  28.80"
      ]
     },
     "execution_count": 4,
     "metadata": {},
     "output_type": "execute_result"
    }
   ],
   "source": [
    "empathy_category=\"empathy\"\n",
    "df = service.get_scores(mode, question_nb, empathy_category, positive=True, denominator_thresold=0, numerator_thresold=avg, debug=False)\n",
    "print(f\"{empathy_category} positive score\")\n",
    "df.head(10)"
   ]
  },
  {
   "cell_type": "markdown",
   "id": "33cdd649-59d5-42af-a350-deb388f0c91c",
   "metadata": {},
   "source": [
    "Empathy Negative Score"
   ]
  },
  {
   "cell_type": "code",
   "execution_count": 5,
   "id": "d10beb9b-6982-4c6c-bf3d-fc96b9712763",
   "metadata": {},
   "outputs": [
    {
     "name": "stdout",
     "output_type": "stream",
     "text": [
      "empathy negative score\n"
     ]
    },
    {
     "data": {
      "text/html": [
       "<div>\n",
       "<style scoped>\n",
       "    .dataframe tbody tr th:only-of-type {\n",
       "        vertical-align: middle;\n",
       "    }\n",
       "\n",
       "    .dataframe tbody tr th {\n",
       "        vertical-align: top;\n",
       "    }\n",
       "\n",
       "    .dataframe thead th {\n",
       "        text-align: right;\n",
       "    }\n",
       "</style>\n",
       "<table border=\"1\" class=\"dataframe\">\n",
       "  <thead>\n",
       "    <tr style=\"text-align: right;\">\n",
       "      <th></th>\n",
       "      <th>id</th>\n",
       "      <th>topic</th>\n",
       "      <th>score_negative_form</th>\n",
       "      <th>score_positive_form</th>\n",
       "      <th>score</th>\n",
       "    </tr>\n",
       "  </thead>\n",
       "  <tbody>\n",
       "  </tbody>\n",
       "</table>\n",
       "</div>"
      ],
      "text/plain": [
       "Empty DataFrame\n",
       "Columns: [id, topic, score_negative_form, score_positive_form, score]\n",
       "Index: []"
      ]
     },
     "execution_count": 5,
     "metadata": {},
     "output_type": "execute_result"
    }
   ],
   "source": [
    "df = service.get_scores(mode, question_nb, empathy_category, positive=False, denominator_thresold=0, numerator_thresold=avg)\n",
    "print(f\"{empathy_category} negative score\")\n",
    "df.head(10)\n"
   ]
  },
  {
   "cell_type": "markdown",
   "id": "c7889c79-d26d-45e3-b199-6a6e7da1ec43",
   "metadata": {},
   "source": [
    "Low Noise"
   ]
  },
  {
   "cell_type": "code",
   "execution_count": 6,
   "id": "182a0400-27b5-475a-a042-c7ec7fd96bc1",
   "metadata": {},
   "outputs": [
    {
     "name": "stdout",
     "output_type": "stream",
     "text": [
      "Low noise empathy negative score\n"
     ]
    },
    {
     "data": {
      "text/html": [
       "<div>\n",
       "<style scoped>\n",
       "    .dataframe tbody tr th:only-of-type {\n",
       "        vertical-align: middle;\n",
       "    }\n",
       "\n",
       "    .dataframe tbody tr th {\n",
       "        vertical-align: top;\n",
       "    }\n",
       "\n",
       "    .dataframe thead th {\n",
       "        text-align: right;\n",
       "    }\n",
       "</style>\n",
       "<table border=\"1\" class=\"dataframe\">\n",
       "  <thead>\n",
       "    <tr style=\"text-align: right;\">\n",
       "      <th></th>\n",
       "      <th>id</th>\n",
       "      <th>topic</th>\n",
       "      <th>score_negative_form</th>\n",
       "      <th>score_positive_form</th>\n",
       "      <th>score</th>\n",
       "    </tr>\n",
       "  </thead>\n",
       "  <tbody>\n",
       "  </tbody>\n",
       "</table>\n",
       "</div>"
      ],
      "text/plain": [
       "Empty DataFrame\n",
       "Columns: [id, topic, score_negative_form, score_positive_form, score]\n",
       "Index: []"
      ]
     },
     "execution_count": 6,
     "metadata": {},
     "output_type": "execute_result"
    }
   ],
   "source": [
    "empathy_category=\"empathy\"\n",
    "df = service.get_scores(mode, question_nb, empathy_category, positive=False, denominator_thresold=0, numerator_thresold=0)\n",
    "df=df[df.score > avg] \n",
    "print(f\"Low noise {empathy_category} negative score\")\n",
    "df.head(10)"
   ]
  },
  {
   "cell_type": "code",
   "execution_count": 11,
   "id": "7821b820-503d-4504-9069-4a0886cc9f46",
   "metadata": {},
   "outputs": [
    {
     "name": "stdout",
     "output_type": "stream",
     "text": [
      "Low noise empathy positive score\n"
     ]
    },
    {
     "data": {
      "text/html": [
       "<div>\n",
       "<style scoped>\n",
       "    .dataframe tbody tr th:only-of-type {\n",
       "        vertical-align: middle;\n",
       "    }\n",
       "\n",
       "    .dataframe tbody tr th {\n",
       "        vertical-align: top;\n",
       "    }\n",
       "\n",
       "    .dataframe thead th {\n",
       "        text-align: right;\n",
       "    }\n",
       "</style>\n",
       "<table border=\"1\" class=\"dataframe\">\n",
       "  <thead>\n",
       "    <tr style=\"text-align: right;\">\n",
       "      <th></th>\n",
       "      <th>id</th>\n",
       "      <th>topic</th>\n",
       "      <th>score_positive_form</th>\n",
       "      <th>score_negative_form</th>\n",
       "      <th>score</th>\n",
       "    </tr>\n",
       "  </thead>\n",
       "  <tbody>\n",
       "    <tr>\n",
       "      <th>0</th>\n",
       "      <td>13171</td>\n",
       "      <td>comfort</td>\n",
       "      <td>24.50</td>\n",
       "      <td>NaN</td>\n",
       "      <td>245.05</td>\n",
       "    </tr>\n",
       "    <tr>\n",
       "      <th>1</th>\n",
       "      <td>9070</td>\n",
       "      <td>fulfilled</td>\n",
       "      <td>23.20</td>\n",
       "      <td>NaN</td>\n",
       "      <td>231.95</td>\n",
       "    </tr>\n",
       "    <tr>\n",
       "      <th>2</th>\n",
       "      <td>9635</td>\n",
       "      <td>impact</td>\n",
       "      <td>29.73</td>\n",
       "      <td>0.13</td>\n",
       "      <td>223.10</td>\n",
       "    </tr>\n",
       "    <tr>\n",
       "      <th>3</th>\n",
       "      <td>13354</td>\n",
       "      <td>unity</td>\n",
       "      <td>21.32</td>\n",
       "      <td>NaN</td>\n",
       "      <td>213.22</td>\n",
       "    </tr>\n",
       "    <tr>\n",
       "      <th>4</th>\n",
       "      <td>9229</td>\n",
       "      <td>contribute</td>\n",
       "      <td>21.31</td>\n",
       "      <td>NaN</td>\n",
       "      <td>213.15</td>\n",
       "    </tr>\n",
       "    <tr>\n",
       "      <th>5</th>\n",
       "      <td>13356</td>\n",
       "      <td>something</td>\n",
       "      <td>20.40</td>\n",
       "      <td>NaN</td>\n",
       "      <td>204.05</td>\n",
       "    </tr>\n",
       "    <tr>\n",
       "      <th>6</th>\n",
       "      <td>13012</td>\n",
       "      <td>home</td>\n",
       "      <td>20.25</td>\n",
       "      <td>NaN</td>\n",
       "      <td>202.46</td>\n",
       "    </tr>\n",
       "    <tr>\n",
       "      <th>7</th>\n",
       "      <td>11945</td>\n",
       "      <td>safety</td>\n",
       "      <td>43.03</td>\n",
       "      <td>0.22</td>\n",
       "      <td>196.46</td>\n",
       "    </tr>\n",
       "    <tr>\n",
       "      <th>8</th>\n",
       "      <td>12998</td>\n",
       "      <td>loved</td>\n",
       "      <td>18.28</td>\n",
       "      <td>NaN</td>\n",
       "      <td>182.79</td>\n",
       "    </tr>\n",
       "    <tr>\n",
       "      <th>9</th>\n",
       "      <td>9634</td>\n",
       "      <td>helping</td>\n",
       "      <td>16.10</td>\n",
       "      <td>NaN</td>\n",
       "      <td>161.00</td>\n",
       "    </tr>\n",
       "  </tbody>\n",
       "</table>\n",
       "</div>"
      ],
      "text/plain": [
       "      id       topic  score_positive_form  score_negative_form  score\n",
       "0  13171     comfort                24.50                  NaN 245.05\n",
       "1   9070   fulfilled                23.20                  NaN 231.95\n",
       "2   9635      impact                29.73                 0.13 223.10\n",
       "3  13354       unity                21.32                  NaN 213.22\n",
       "4   9229  contribute                21.31                  NaN 213.15\n",
       "5  13356   something                20.40                  NaN 204.05\n",
       "6  13012        home                20.25                  NaN 202.46\n",
       "7  11945      safety                43.03                 0.22 196.46\n",
       "8  12998       loved                18.28                  NaN 182.79\n",
       "9   9634     helping                16.10                  NaN 161.00"
      ]
     },
     "execution_count": 11,
     "metadata": {},
     "output_type": "execute_result"
    }
   ],
   "source": [
    "df = service.get_scores(mode, question_nb, empathy_category, positive=True, denominator_thresold=0, numerator_thresold=0, sentiment=False)\n",
    "df=df[df.score > avg] \n",
    "print(f\"Low noise {empathy_category} positive score\")\n",
    "df.head(10)"
   ]
  },
  {
   "cell_type": "code",
   "execution_count": null,
   "id": "44a89331-45cc-4f78-b3f3-386412760cad",
   "metadata": {},
   "outputs": [],
   "source": []
  }
 ],
 "metadata": {
  "kernelspec": {
   "display_name": "Python 3 (ipykernel)",
   "language": "python",
   "name": "python3"
  },
  "language_info": {
   "codemirror_mode": {
    "name": "ipython",
    "version": 3
   },
   "file_extension": ".py",
   "mimetype": "text/x-python",
   "name": "python",
   "nbconvert_exporter": "python",
   "pygments_lexer": "ipython3",
   "version": "3.11.3"
  }
 },
 "nbformat": 4,
 "nbformat_minor": 5
}
