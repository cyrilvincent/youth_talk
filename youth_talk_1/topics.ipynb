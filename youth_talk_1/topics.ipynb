{
 "cells": [
  {
   "cell_type": "markdown",
   "id": "32fd9a79-6544-445b-ab62-89b35710c891",
   "metadata": {},
   "source": [
    "# Topic"
   ]
  },
  {
   "cell_type": "code",
   "execution_count": 1,
   "id": "55e22bc2-3efb-4806-89bd-2c2c77b781b2",
   "metadata": {},
   "outputs": [
    {
     "name": "stdout",
     "output_type": "stream",
     "text": [
      "3.11.3 (tags/v3.11.3:f3909b8, Apr  4 2023, 23:49:59) [MSC v.1934 64 bit (AMD64)] 2.0.2 2.2.3 0.1.0.Alpha\n",
      "postgresql://postgres:sa@localhost:5432/yt1\n"
     ]
    }
   ],
   "source": [
    "import numpy as np\n",
    "import pandas as pd\n",
    "import config\n",
    "import jupyter_service\n",
    "import sys\n",
    "import matplotlib.pyplot as plt\n",
    "from dbcontext import Context\n",
    "from wordcloud import WordCloud, STOPWORDS, ImageColorGenerator\n",
    "pd.options.display.float_format = '{:.2f}'.format\n",
    "print(sys.version, np.__version__, pd.__version__, config.version)\n",
    "context = Context()\n",
    "context.create(echo=False)\n",
    "service = jupyter_service.JupyterService(context)\n",
    "nb_form=15854\n",
    "print(config.connection_string)"
   ]
  },
  {
   "cell_type": "code",
   "execution_count": 2,
   "id": "f26dba88-86f1-41ff-a5d9-11df3e0be9d3",
   "metadata": {},
   "outputs": [],
   "source": [
    "question_nb=12\n",
    "mode=\"textrank\""
   ]
  },
  {
   "cell_type": "markdown",
   "id": "0eaf0d4c-6c16-47c7-be05-0b38c2be0ea0",
   "metadata": {},
   "source": [
    "Most used topics"
   ]
  },
  {
   "cell_type": "code",
   "execution_count": 3,
   "id": "4270f80a-e9af-4631-bb4a-976cc5a1d744",
   "metadata": {},
   "outputs": [
    {
     "data": {
      "text/html": [
       "<div>\n",
       "<style scoped>\n",
       "    .dataframe tbody tr th:only-of-type {\n",
       "        vertical-align: middle;\n",
       "    }\n",
       "\n",
       "    .dataframe tbody tr th {\n",
       "        vertical-align: top;\n",
       "    }\n",
       "\n",
       "    .dataframe thead th {\n",
       "        text-align: right;\n",
       "    }\n",
       "</style>\n",
       "<table border=\"1\" class=\"dataframe\">\n",
       "  <thead>\n",
       "    <tr style=\"text-align: right;\">\n",
       "      <th></th>\n",
       "      <th>topic</th>\n",
       "      <th>nb_form</th>\n",
       "    </tr>\n",
       "  </thead>\n",
       "  <tbody>\n",
       "    <tr>\n",
       "      <th>0</th>\n",
       "      <td>peace</td>\n",
       "      <td>2898</td>\n",
       "    </tr>\n",
       "    <tr>\n",
       "      <th>1</th>\n",
       "      <td>world</td>\n",
       "      <td>2039</td>\n",
       "    </tr>\n",
       "    <tr>\n",
       "      <th>2</th>\n",
       "      <td>countries</td>\n",
       "      <td>2026</td>\n",
       "    </tr>\n",
       "    <tr>\n",
       "      <th>3</th>\n",
       "      <td>life</td>\n",
       "      <td>1702</td>\n",
       "    </tr>\n",
       "    <tr>\n",
       "      <th>4</th>\n",
       "      <td>good</td>\n",
       "      <td>1517</td>\n",
       "    </tr>\n",
       "    <tr>\n",
       "      <th>...</th>\n",
       "      <td>...</td>\n",
       "      <td>...</td>\n",
       "    </tr>\n",
       "    <tr>\n",
       "      <th>851</th>\n",
       "      <td>hollywood</td>\n",
       "      <td>2</td>\n",
       "    </tr>\n",
       "    <tr>\n",
       "      <th>852</th>\n",
       "      <td>tanti</td>\n",
       "      <td>2</td>\n",
       "    </tr>\n",
       "    <tr>\n",
       "      <th>853</th>\n",
       "      <td>lebanon</td>\n",
       "      <td>2</td>\n",
       "    </tr>\n",
       "    <tr>\n",
       "      <th>854</th>\n",
       "      <td>inegalities</td>\n",
       "      <td>2</td>\n",
       "    </tr>\n",
       "    <tr>\n",
       "      <th>855</th>\n",
       "      <td>glitter</td>\n",
       "      <td>2</td>\n",
       "    </tr>\n",
       "  </tbody>\n",
       "</table>\n",
       "<p>856 rows × 2 columns</p>\n",
       "</div>"
      ],
      "text/plain": [
       "           topic  nb_form\n",
       "0          peace     2898\n",
       "1          world     2039\n",
       "2      countries     2026\n",
       "3           life     1702\n",
       "4           good     1517\n",
       "..           ...      ...\n",
       "851    hollywood        2\n",
       "852        tanti        2\n",
       "853      lebanon        2\n",
       "854  inegalities        2\n",
       "855      glitter        2\n",
       "\n",
       "[856 rows x 2 columns]"
      ]
     },
     "execution_count": 3,
     "metadata": {},
     "output_type": "execute_result"
    }
   ],
   "source": [
    "df = service.get_topics(mode, question_nb)\n",
    "nb_topic = len(df)\n",
    "df"
   ]
  },
  {
   "cell_type": "markdown",
   "id": "a12dbb90-0923-4748-9cdc-9c4a1912e553",
   "metadata": {},
   "source": [
    "Lemas"
   ]
  },
  {
   "cell_type": "code",
   "execution_count": 5,
   "id": "2e55c859-5e4f-4d93-983e-d41b6c3dc53b",
   "metadata": {},
   "outputs": [
    {
     "data": {
      "text/html": [
       "<div>\n",
       "<style scoped>\n",
       "    .dataframe tbody tr th:only-of-type {\n",
       "        vertical-align: middle;\n",
       "    }\n",
       "\n",
       "    .dataframe tbody tr th {\n",
       "        vertical-align: top;\n",
       "    }\n",
       "\n",
       "    .dataframe thead th {\n",
       "        text-align: right;\n",
       "    }\n",
       "</style>\n",
       "<table border=\"1\" class=\"dataframe\">\n",
       "  <thead>\n",
       "    <tr style=\"text-align: right;\">\n",
       "      <th></th>\n",
       "      <th>topic_label</th>\n",
       "      <th>lema_label</th>\n",
       "      <th>count</th>\n",
       "    </tr>\n",
       "  </thead>\n",
       "  <tbody>\n",
       "    <tr>\n",
       "      <th>0</th>\n",
       "      <td>countries</td>\n",
       "      <td>countries</td>\n",
       "      <td>120</td>\n",
       "    </tr>\n",
       "    <tr>\n",
       "      <th>1</th>\n",
       "      <td>countries</td>\n",
       "      <td>comfort</td>\n",
       "      <td>115</td>\n",
       "    </tr>\n",
       "    <tr>\n",
       "      <th>2</th>\n",
       "      <td>countries</td>\n",
       "      <td>community</td>\n",
       "      <td>84</td>\n",
       "    </tr>\n",
       "    <tr>\n",
       "      <th>3</th>\n",
       "      <td>countries</td>\n",
       "      <td>conditions</td>\n",
       "      <td>70</td>\n",
       "    </tr>\n",
       "    <tr>\n",
       "      <th>4</th>\n",
       "      <td>countries</td>\n",
       "      <td>comfortable</td>\n",
       "      <td>52</td>\n",
       "    </tr>\n",
       "    <tr>\n",
       "      <th>5</th>\n",
       "      <td>countries</td>\n",
       "      <td>corruption</td>\n",
       "      <td>50</td>\n",
       "    </tr>\n",
       "    <tr>\n",
       "      <th>6</th>\n",
       "      <td>countries</td>\n",
       "      <td>company</td>\n",
       "      <td>48</td>\n",
       "    </tr>\n",
       "    <tr>\n",
       "      <th>7</th>\n",
       "      <td>countries</td>\n",
       "      <td>mutual</td>\n",
       "      <td>45</td>\n",
       "    </tr>\n",
       "    <tr>\n",
       "      <th>8</th>\n",
       "      <td>countries</td>\n",
       "      <td>common</td>\n",
       "      <td>42</td>\n",
       "    </tr>\n",
       "    <tr>\n",
       "      <th>9</th>\n",
       "      <td>countries</td>\n",
       "      <td>conflicts</td>\n",
       "      <td>42</td>\n",
       "    </tr>\n",
       "  </tbody>\n",
       "</table>\n",
       "</div>"
      ],
      "text/plain": [
       "  topic_label   lema_label  count\n",
       "0   countries    countries    120\n",
       "1   countries      comfort    115\n",
       "2   countries    community     84\n",
       "3   countries   conditions     70\n",
       "4   countries  comfortable     52\n",
       "5   countries   corruption     50\n",
       "6   countries      company     48\n",
       "7   countries       mutual     45\n",
       "8   countries       common     42\n",
       "9   countries    conflicts     42"
      ]
     },
     "execution_count": 5,
     "metadata": {},
     "output_type": "execute_result"
    }
   ],
   "source": [
    "topic = \"comfort\"\n",
    "df = service.get_lemas(topic, mode)\n",
    "df.head(10)\n"
   ]
  },
  {
   "cell_type": "code",
   "execution_count": null,
   "id": "bbaacdb9-4020-43f0-9fd4-96baa57c1245",
   "metadata": {},
   "outputs": [],
   "source": [
    "topic = \"peace\"\n",
    "df = service.get_lemas(topic, mode)\n",
    "service.show_lemas(df)"
   ]
  },
  {
   "cell_type": "code",
   "execution_count": null,
   "id": "a4255db0-4c2e-475b-8ad4-8b75917e9442",
   "metadata": {},
   "outputs": [],
   "source": []
  }
 ],
 "metadata": {
  "kernelspec": {
   "display_name": "Python 3 (ipykernel)",
   "language": "python",
   "name": "python3"
  },
  "language_info": {
   "codemirror_mode": {
    "name": "ipython",
    "version": 3
   },
   "file_extension": ".py",
   "mimetype": "text/x-python",
   "name": "python",
   "nbconvert_exporter": "python",
   "pygments_lexer": "ipython3",
   "version": "3.11.3"
  }
 },
 "nbformat": 4,
 "nbformat_minor": 5
}
