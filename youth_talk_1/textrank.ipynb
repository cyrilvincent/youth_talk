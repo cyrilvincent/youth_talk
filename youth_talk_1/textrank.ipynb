{
 "cells": [
  {
   "cell_type": "markdown",
   "id": "32fd9a79-6544-445b-ab62-89b35710c891",
   "metadata": {},
   "source": [
    "# TextRank"
   ]
  },
  {
   "cell_type": "code",
   "execution_count": 1,
   "id": "55e22bc2-3efb-4806-89bd-2c2c77b781b2",
   "metadata": {},
   "outputs": [
    {
     "name": "stdout",
     "output_type": "stream",
     "text": [
      "3.11.3 (tags/v3.11.3:f3909b8, Apr  4 2023, 23:49:59) [MSC v.1934 64 bit (AMD64)] 2.0.2 2.2.3 0.1.0.Alpha\n",
      "postgresql://postgres:sa@localhost:5432/yt1\n"
     ]
    }
   ],
   "source": [
    "import numpy as np\n",
    "import pandas as pd\n",
    "import config\n",
    "import jupyter_service\n",
    "import sys\n",
    "import matplotlib.pyplot as plt\n",
    "from dbcontext import Context\n",
    "from wordcloud import WordCloud, STOPWORDS, ImageColorGenerator\n",
    "pd.options.display.float_format = '{:.2f}'.format\n",
    "print(sys.version, np.__version__, pd.__version__, config.version)\n",
    "context = Context()\n",
    "context.create(echo=False)\n",
    "service = jupyter_service.JupyterService(context)\n",
    "nb_form=15854\n",
    "print(config.connection_string)"
   ]
  },
  {
   "cell_type": "code",
   "execution_count": 2,
   "id": "f26dba88-86f1-41ff-a5d9-11df3e0be9d3",
   "metadata": {},
   "outputs": [],
   "source": [
    "question_nb=12\n",
    "mode=\"textrank\""
   ]
  },
  {
   "cell_type": "markdown",
   "id": "0eaf0d4c-6c16-47c7-be05-0b38c2be0ea0",
   "metadata": {},
   "source": [
    "Most used topics"
   ]
  },
  {
   "cell_type": "code",
   "execution_count": 3,
   "id": "4270f80a-e9af-4631-bb4a-976cc5a1d744",
   "metadata": {},
   "outputs": [
    {
     "data": {
      "text/html": [
       "<div>\n",
       "<style scoped>\n",
       "    .dataframe tbody tr th:only-of-type {\n",
       "        vertical-align: middle;\n",
       "    }\n",
       "\n",
       "    .dataframe tbody tr th {\n",
       "        vertical-align: top;\n",
       "    }\n",
       "\n",
       "    .dataframe thead th {\n",
       "        text-align: right;\n",
       "    }\n",
       "</style>\n",
       "<table border=\"1\" class=\"dataframe\">\n",
       "  <thead>\n",
       "    <tr style=\"text-align: right;\">\n",
       "      <th></th>\n",
       "      <th>topic</th>\n",
       "      <th>nb_form</th>\n",
       "    </tr>\n",
       "  </thead>\n",
       "  <tbody>\n",
       "    <tr>\n",
       "      <th>0</th>\n",
       "      <td>peace</td>\n",
       "      <td>2898</td>\n",
       "    </tr>\n",
       "    <tr>\n",
       "      <th>1</th>\n",
       "      <td>world</td>\n",
       "      <td>2039</td>\n",
       "    </tr>\n",
       "    <tr>\n",
       "      <th>2</th>\n",
       "      <td>countries</td>\n",
       "      <td>2026</td>\n",
       "    </tr>\n",
       "    <tr>\n",
       "      <th>3</th>\n",
       "      <td>life</td>\n",
       "      <td>1702</td>\n",
       "    </tr>\n",
       "    <tr>\n",
       "      <th>4</th>\n",
       "      <td>good</td>\n",
       "      <td>1517</td>\n",
       "    </tr>\n",
       "    <tr>\n",
       "      <th>...</th>\n",
       "      <td>...</td>\n",
       "      <td>...</td>\n",
       "    </tr>\n",
       "    <tr>\n",
       "      <th>851</th>\n",
       "      <td>hollywood</td>\n",
       "      <td>2</td>\n",
       "    </tr>\n",
       "    <tr>\n",
       "      <th>852</th>\n",
       "      <td>tanti</td>\n",
       "      <td>2</td>\n",
       "    </tr>\n",
       "    <tr>\n",
       "      <th>853</th>\n",
       "      <td>lebanon</td>\n",
       "      <td>2</td>\n",
       "    </tr>\n",
       "    <tr>\n",
       "      <th>854</th>\n",
       "      <td>inegalities</td>\n",
       "      <td>2</td>\n",
       "    </tr>\n",
       "    <tr>\n",
       "      <th>855</th>\n",
       "      <td>glitter</td>\n",
       "      <td>2</td>\n",
       "    </tr>\n",
       "  </tbody>\n",
       "</table>\n",
       "<p>856 rows × 2 columns</p>\n",
       "</div>"
      ],
      "text/plain": [
       "           topic  nb_form\n",
       "0          peace     2898\n",
       "1          world     2039\n",
       "2      countries     2026\n",
       "3           life     1702\n",
       "4           good     1517\n",
       "..           ...      ...\n",
       "851    hollywood        2\n",
       "852        tanti        2\n",
       "853      lebanon        2\n",
       "854  inegalities        2\n",
       "855      glitter        2\n",
       "\n",
       "[856 rows x 2 columns]"
      ]
     },
     "execution_count": 3,
     "metadata": {},
     "output_type": "execute_result"
    }
   ],
   "source": [
    "df = service.get_topics(mode, question_nb)\n",
    "nb_topic = len(df)\n",
    "df"
   ]
  },
  {
   "cell_type": "markdown",
   "id": "bc48f7e8-8f45-49fe-83e0-69acc8634237",
   "metadata": {},
   "source": [
    "Stats"
   ]
  },
  {
   "cell_type": "code",
   "execution_count": 4,
   "id": "d7a2c45c-b7c4-47d3-b55c-11db596c0189",
   "metadata": {},
   "outputs": [
    {
     "data": {
      "text/html": [
       "<div>\n",
       "<style scoped>\n",
       "    .dataframe tbody tr th:only-of-type {\n",
       "        vertical-align: middle;\n",
       "    }\n",
       "\n",
       "    .dataframe tbody tr th {\n",
       "        vertical-align: top;\n",
       "    }\n",
       "\n",
       "    .dataframe thead th {\n",
       "        text-align: right;\n",
       "    }\n",
       "</style>\n",
       "<table border=\"1\" class=\"dataframe\">\n",
       "  <thead>\n",
       "    <tr style=\"text-align: right;\">\n",
       "      <th></th>\n",
       "      <th>average</th>\n",
       "      <th>median_</th>\n",
       "      <th>quartile</th>\n",
       "      <th>decile</th>\n",
       "      <th>percentile</th>\n",
       "    </tr>\n",
       "  </thead>\n",
       "  <tbody>\n",
       "    <tr>\n",
       "      <th>0</th>\n",
       "      <td>57.02</td>\n",
       "      <td>6.00</td>\n",
       "      <td>3.00</td>\n",
       "      <td>2.00</td>\n",
       "      <td>2.00</td>\n",
       "    </tr>\n",
       "  </tbody>\n",
       "</table>\n",
       "</div>"
      ],
      "text/plain": [
       "   average  median_  quartile  decile  percentile\n",
       "0    57.02     6.00      3.00    2.00        2.00"
      ]
     },
     "execution_count": 4,
     "metadata": {},
     "output_type": "execute_result"
    }
   ],
   "source": [
    "df = service.get_stats(mode)\n",
    "avg=df.iloc[0].average\n",
    "median=df.iloc[0].median_\n",
    "percentile=df.iloc[0].percentile\n",
    "df"
   ]
  },
  {
   "cell_type": "markdown",
   "id": "33cdd649-59d5-42af-a350-deb388f0c91c",
   "metadata": {},
   "source": [
    "Empathy Positive Score"
   ]
  },
  {
   "cell_type": "code",
   "execution_count": 5,
   "id": "0cfaaaad-6151-4e9c-9849-87a1df24289c",
   "metadata": {},
   "outputs": [
    {
     "name": "stdout",
     "output_type": "stream",
     "text": [
      "pd positive score\n"
     ]
    },
    {
     "data": {
      "text/html": [
       "<div>\n",
       "<style scoped>\n",
       "    .dataframe tbody tr th:only-of-type {\n",
       "        vertical-align: middle;\n",
       "    }\n",
       "\n",
       "    .dataframe tbody tr th {\n",
       "        vertical-align: top;\n",
       "    }\n",
       "\n",
       "    .dataframe thead th {\n",
       "        text-align: right;\n",
       "    }\n",
       "</style>\n",
       "<table border=\"1\" class=\"dataframe\">\n",
       "  <thead>\n",
       "    <tr style=\"text-align: right;\">\n",
       "      <th></th>\n",
       "      <th>id</th>\n",
       "      <th>topic</th>\n",
       "      <th>nb_positive_form</th>\n",
       "      <th>nb_negative_form</th>\n",
       "      <th>score</th>\n",
       "    </tr>\n",
       "  </thead>\n",
       "  <tbody>\n",
       "    <tr>\n",
       "      <th>0</th>\n",
       "      <td>5987</td>\n",
       "      <td>better</td>\n",
       "      <td>357</td>\n",
       "      <td>226</td>\n",
       "      <td>1.57</td>\n",
       "    </tr>\n",
       "    <tr>\n",
       "      <th>1</th>\n",
       "      <td>5997</td>\n",
       "      <td>dreams</td>\n",
       "      <td>62</td>\n",
       "      <td>40</td>\n",
       "      <td>1.51</td>\n",
       "    </tr>\n",
       "    <tr>\n",
       "      <th>2</th>\n",
       "      <td>6036</td>\n",
       "      <td>person</td>\n",
       "      <td>151</td>\n",
       "      <td>100</td>\n",
       "      <td>1.50</td>\n",
       "    </tr>\n",
       "    <tr>\n",
       "      <th>3</th>\n",
       "      <td>5962</td>\n",
       "      <td>everyone</td>\n",
       "      <td>125</td>\n",
       "      <td>84</td>\n",
       "      <td>1.47</td>\n",
       "    </tr>\n",
       "    <tr>\n",
       "      <th>4</th>\n",
       "      <td>6005</td>\n",
       "      <td>future</td>\n",
       "      <td>127</td>\n",
       "      <td>96</td>\n",
       "      <td>1.31</td>\n",
       "    </tr>\n",
       "    <tr>\n",
       "      <th>5</th>\n",
       "      <td>5998</td>\n",
       "      <td>world</td>\n",
       "      <td>549</td>\n",
       "      <td>435</td>\n",
       "      <td>1.26</td>\n",
       "    </tr>\n",
       "    <tr>\n",
       "      <th>6</th>\n",
       "      <td>5972</td>\n",
       "      <td>others</td>\n",
       "      <td>127</td>\n",
       "      <td>104</td>\n",
       "      <td>1.21</td>\n",
       "    </tr>\n",
       "    <tr>\n",
       "      <th>7</th>\n",
       "      <td>5971</td>\n",
       "      <td>harmony</td>\n",
       "      <td>60</td>\n",
       "      <td>50</td>\n",
       "      <td>1.18</td>\n",
       "    </tr>\n",
       "    <tr>\n",
       "      <th>8</th>\n",
       "      <td>5966</td>\n",
       "      <td>society</td>\n",
       "      <td>152</td>\n",
       "      <td>129</td>\n",
       "      <td>1.17</td>\n",
       "    </tr>\n",
       "    <tr>\n",
       "      <th>9</th>\n",
       "      <td>6018</td>\n",
       "      <td>work</td>\n",
       "      <td>97</td>\n",
       "      <td>82</td>\n",
       "      <td>1.17</td>\n",
       "    </tr>\n",
       "  </tbody>\n",
       "</table>\n",
       "</div>"
      ],
      "text/plain": [
       "     id     topic  nb_positive_form  nb_negative_form  score\n",
       "0  5987    better               357               226   1.57\n",
       "1  5997    dreams                62                40   1.51\n",
       "2  6036    person               151               100   1.50\n",
       "3  5962  everyone               125                84   1.47\n",
       "4  6005    future               127                96   1.31\n",
       "5  5998     world               549               435   1.26\n",
       "6  5972    others               127               104   1.21\n",
       "7  5971   harmony                60                50   1.18\n",
       "8  5966   society               152               129   1.17\n",
       "9  6018      work                97                82   1.17"
      ]
     },
     "execution_count": 5,
     "metadata": {},
     "output_type": "execute_result"
    }
   ],
   "source": [
    "empathy_category=\"pd\"\n",
    "df = service.get_scores(mode, question_nb, empathy_category, positive=True, denominator_thresold=0, numerator_thresold=avg, debug=False)\n",
    "print(f\"{empathy_category} positive score\")\n",
    "df.head(10)"
   ]
  },
  {
   "cell_type": "code",
   "execution_count": 6,
   "id": "d10beb9b-6982-4c6c-bf3d-fc96b9712763",
   "metadata": {},
   "outputs": [
    {
     "name": "stdout",
     "output_type": "stream",
     "text": [
      "pd negative score\n"
     ]
    },
    {
     "data": {
      "text/html": [
       "<div>\n",
       "<style scoped>\n",
       "    .dataframe tbody tr th:only-of-type {\n",
       "        vertical-align: middle;\n",
       "    }\n",
       "\n",
       "    .dataframe tbody tr th {\n",
       "        vertical-align: top;\n",
       "    }\n",
       "\n",
       "    .dataframe thead th {\n",
       "        text-align: right;\n",
       "    }\n",
       "</style>\n",
       "<table border=\"1\" class=\"dataframe\">\n",
       "  <thead>\n",
       "    <tr style=\"text-align: right;\">\n",
       "      <th></th>\n",
       "      <th>id</th>\n",
       "      <th>topic</th>\n",
       "      <th>nb_negative_form</th>\n",
       "      <th>nb_positive_form</th>\n",
       "      <th>score</th>\n",
       "    </tr>\n",
       "  </thead>\n",
       "  <tbody>\n",
       "    <tr>\n",
       "      <th>0</th>\n",
       "      <td>6338</td>\n",
       "      <td>economic</td>\n",
       "      <td>63</td>\n",
       "      <td>24</td>\n",
       "      <td>2.52</td>\n",
       "    </tr>\n",
       "    <tr>\n",
       "      <th>1</th>\n",
       "      <td>6182</td>\n",
       "      <td>security</td>\n",
       "      <td>87</td>\n",
       "      <td>54</td>\n",
       "      <td>1.58</td>\n",
       "    </tr>\n",
       "    <tr>\n",
       "      <th>2</th>\n",
       "      <td>6120</td>\n",
       "      <td>stability</td>\n",
       "      <td>120</td>\n",
       "      <td>75</td>\n",
       "      <td>1.58</td>\n",
       "    </tr>\n",
       "    <tr>\n",
       "      <th>3</th>\n",
       "      <td>5975</td>\n",
       "      <td>balance</td>\n",
       "      <td>69</td>\n",
       "      <td>49</td>\n",
       "      <td>1.38</td>\n",
       "    </tr>\n",
       "    <tr>\n",
       "      <th>4</th>\n",
       "      <td>6074</td>\n",
       "      <td>ability</td>\n",
       "      <td>59</td>\n",
       "      <td>42</td>\n",
       "      <td>1.37</td>\n",
       "    </tr>\n",
       "    <tr>\n",
       "      <th>5</th>\n",
       "      <td>6010</td>\n",
       "      <td>climate</td>\n",
       "      <td>124</td>\n",
       "      <td>92</td>\n",
       "      <td>1.33</td>\n",
       "    </tr>\n",
       "    <tr>\n",
       "      <th>6</th>\n",
       "      <td>6108</td>\n",
       "      <td>financial</td>\n",
       "      <td>112</td>\n",
       "      <td>85</td>\n",
       "      <td>1.30</td>\n",
       "    </tr>\n",
       "    <tr>\n",
       "      <th>7</th>\n",
       "      <td>6011</td>\n",
       "      <td>change</td>\n",
       "      <td>130</td>\n",
       "      <td>102</td>\n",
       "      <td>1.26</td>\n",
       "    </tr>\n",
       "    <tr>\n",
       "      <th>8</th>\n",
       "      <td>6029</td>\n",
       "      <td>freedom</td>\n",
       "      <td>124</td>\n",
       "      <td>99</td>\n",
       "      <td>1.24</td>\n",
       "    </tr>\n",
       "    <tr>\n",
       "      <th>9</th>\n",
       "      <td>6043</td>\n",
       "      <td>education</td>\n",
       "      <td>58</td>\n",
       "      <td>46</td>\n",
       "      <td>1.23</td>\n",
       "    </tr>\n",
       "  </tbody>\n",
       "</table>\n",
       "</div>"
      ],
      "text/plain": [
       "     id      topic  nb_negative_form  nb_positive_form  score\n",
       "0  6338   economic                63                24   2.52\n",
       "1  6182   security                87                54   1.58\n",
       "2  6120  stability               120                75   1.58\n",
       "3  5975    balance                69                49   1.38\n",
       "4  6074    ability                59                42   1.37\n",
       "5  6010    climate               124                92   1.33\n",
       "6  6108  financial               112                85   1.30\n",
       "7  6011     change               130               102   1.26\n",
       "8  6029    freedom               124                99   1.24\n",
       "9  6043  education                58                46   1.23"
      ]
     },
     "execution_count": 6,
     "metadata": {},
     "output_type": "execute_result"
    }
   ],
   "source": [
    "empathy_category=\"pd\"\n",
    "df = service.get_scores(mode, question_nb, empathy_category, positive=False, denominator_thresold=0, numerator_thresold=avg)\n",
    "print(f\"{empathy_category} negative score\")\n",
    "df.head(10)\n"
   ]
  },
  {
   "cell_type": "markdown",
   "id": "c7889c79-d26d-45e3-b199-6a6e7da1ec43",
   "metadata": {},
   "source": [
    "Low Noise\n"
   ]
  },
  {
   "cell_type": "code",
   "execution_count": 11,
   "id": "182a0400-27b5-475a-a042-c7ec7fd96bc1",
   "metadata": {},
   "outputs": [
    {
     "name": "stdout",
     "output_type": "stream",
     "text": [
      "Low noise pd negative score\n"
     ]
    },
    {
     "data": {
      "text/html": [
       "<div>\n",
       "<style scoped>\n",
       "    .dataframe tbody tr th:only-of-type {\n",
       "        vertical-align: middle;\n",
       "    }\n",
       "\n",
       "    .dataframe tbody tr th {\n",
       "        vertical-align: top;\n",
       "    }\n",
       "\n",
       "    .dataframe thead th {\n",
       "        text-align: right;\n",
       "    }\n",
       "</style>\n",
       "<table border=\"1\" class=\"dataframe\">\n",
       "  <thead>\n",
       "    <tr style=\"text-align: right;\">\n",
       "      <th></th>\n",
       "      <th>id</th>\n",
       "      <th>topic</th>\n",
       "      <th>nb_negative_form</th>\n",
       "      <th>nb_positive_form</th>\n",
       "      <th>score</th>\n",
       "    </tr>\n",
       "  </thead>\n",
       "  <tbody>\n",
       "  </tbody>\n",
       "</table>\n",
       "</div>"
      ],
      "text/plain": [
       "Empty DataFrame\n",
       "Columns: [id, topic, nb_negative_form, nb_positive_form, score]\n",
       "Index: []"
      ]
     },
     "execution_count": 11,
     "metadata": {},
     "output_type": "execute_result"
    }
   ],
   "source": [
    "empathy_category=\"pd\"\n",
    "df = service.get_scores(mode, question_nb, empathy_category, positive=False, denominator_thresold=0, numerator_thresold=5)\n",
    "df=df[df.score > 6] \n",
    "print(f\"Low noise {empathy_category} negative score\")\n",
    "df.head(10)"
   ]
  },
  {
   "cell_type": "code",
   "execution_count": 12,
   "id": "7821b820-503d-4504-9069-4a0886cc9f46",
   "metadata": {},
   "outputs": [
    {
     "name": "stdout",
     "output_type": "stream",
     "text": [
      "Low noise pd negative score\n"
     ]
    },
    {
     "data": {
      "text/html": [
       "<div>\n",
       "<style scoped>\n",
       "    .dataframe tbody tr th:only-of-type {\n",
       "        vertical-align: middle;\n",
       "    }\n",
       "\n",
       "    .dataframe tbody tr th {\n",
       "        vertical-align: top;\n",
       "    }\n",
       "\n",
       "    .dataframe thead th {\n",
       "        text-align: right;\n",
       "    }\n",
       "</style>\n",
       "<table border=\"1\" class=\"dataframe\">\n",
       "  <thead>\n",
       "    <tr style=\"text-align: right;\">\n",
       "      <th></th>\n",
       "      <th>id</th>\n",
       "      <th>topic</th>\n",
       "      <th>nb_positive_form</th>\n",
       "      <th>nb_negative_form</th>\n",
       "      <th>score</th>\n",
       "    </tr>\n",
       "  </thead>\n",
       "  <tbody>\n",
       "  </tbody>\n",
       "</table>\n",
       "</div>"
      ],
      "text/plain": [
       "Empty DataFrame\n",
       "Columns: [id, topic, nb_positive_form, nb_negative_form, score]\n",
       "Index: []"
      ]
     },
     "execution_count": 12,
     "metadata": {},
     "output_type": "execute_result"
    }
   ],
   "source": [
    "df = service.get_scores(mode, question_nb, empathy_category, positive=True, denominator_thresold=0, numerator_thresold=5)\n",
    "df=df[df.score > 6] \n",
    "print(f\"Low noise {empathy_category} negative score\")\n",
    "df.head(10)"
   ]
  },
  {
   "cell_type": "code",
   "execution_count": null,
   "id": "e2a900c2-568c-4057-8ad5-571761eb2215",
   "metadata": {},
   "outputs": [],
   "source": []
  }
 ],
 "metadata": {
  "kernelspec": {
   "display_name": "Python 3 (ipykernel)",
   "language": "python",
   "name": "python3"
  },
  "language_info": {
   "codemirror_mode": {
    "name": "ipython",
    "version": 3
   },
   "file_extension": ".py",
   "mimetype": "text/x-python",
   "name": "python",
   "nbconvert_exporter": "python",
   "pygments_lexer": "ipython3",
   "version": "3.11.3"
  }
 },
 "nbformat": 4,
 "nbformat_minor": 5
}
