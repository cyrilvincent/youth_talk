{
 "cells": [
  {
   "cell_type": "markdown",
   "id": "32fd9a79-6544-445b-ab62-89b35710c891",
   "metadata": {},
   "source": [
    "# Gestalt + NLTK + Vader"
   ]
  },
  {
   "cell_type": "code",
   "execution_count": 1,
   "id": "55e22bc2-3efb-4806-89bd-2c2c77b781b2",
   "metadata": {},
   "outputs": [
    {
     "name": "stdout",
     "output_type": "stream",
     "text": [
      "3.11.3 (tags/v3.11.3:f3909b8, Apr  4 2023, 23:49:59) [MSC v.1934 64 bit (AMD64)] 2.0.2 2.2.3 0.1.0.Alpha\n",
      "postgresql://postgres:sa@localhost:5432/yt1\n"
     ]
    }
   ],
   "source": [
    "import numpy as np\n",
    "import pandas as pd\n",
    "import config\n",
    "import jupyter_service\n",
    "import sys\n",
    "import matplotlib.pyplot as plt\n",
    "from dbcontext import Context\n",
    "from wordcloud import WordCloud, STOPWORDS, ImageColorGenerator\n",
    "pd.options.display.float_format = '{:.2f}'.format\n",
    "print(sys.version, np.__version__, pd.__version__, config.version)\n",
    "context = Context()\n",
    "context.create(echo=False)\n",
    "service = jupyter_service.JupyterService(context)\n",
    "nb_form=15854\n",
    "print(config.connection_string)"
   ]
  },
  {
   "cell_type": "code",
   "execution_count": 2,
   "id": "f26dba88-86f1-41ff-a5d9-11df3e0be9d3",
   "metadata": {},
   "outputs": [],
   "source": [
    "question_nb=12\n",
    "mode=\"nltk\""
   ]
  },
  {
   "cell_type": "markdown",
   "id": "bc48f7e8-8f45-49fe-83e0-69acc8634237",
   "metadata": {},
   "source": [
    "Stats"
   ]
  },
  {
   "cell_type": "code",
   "execution_count": 3,
   "id": "d7a2c45c-b7c4-47d3-b55c-11db596c0189",
   "metadata": {},
   "outputs": [
    {
     "data": {
      "text/html": [
       "<div>\n",
       "<style scoped>\n",
       "    .dataframe tbody tr th:only-of-type {\n",
       "        vertical-align: middle;\n",
       "    }\n",
       "\n",
       "    .dataframe tbody tr th {\n",
       "        vertical-align: top;\n",
       "    }\n",
       "\n",
       "    .dataframe thead th {\n",
       "        text-align: right;\n",
       "    }\n",
       "</style>\n",
       "<table border=\"1\" class=\"dataframe\">\n",
       "  <thead>\n",
       "    <tr style=\"text-align: right;\">\n",
       "      <th></th>\n",
       "      <th>average</th>\n",
       "      <th>median_</th>\n",
       "      <th>quartile</th>\n",
       "      <th>decile</th>\n",
       "      <th>percentile</th>\n",
       "    </tr>\n",
       "  </thead>\n",
       "  <tbody>\n",
       "    <tr>\n",
       "      <th>0</th>\n",
       "      <td>144.63</td>\n",
       "      <td>10.00</td>\n",
       "      <td>3.00</td>\n",
       "      <td>2.00</td>\n",
       "      <td>2.00</td>\n",
       "    </tr>\n",
       "  </tbody>\n",
       "</table>\n",
       "</div>"
      ],
      "text/plain": [
       "   average  median_  quartile  decile  percentile\n",
       "0   144.63    10.00      3.00    2.00        2.00"
      ]
     },
     "execution_count": 3,
     "metadata": {},
     "output_type": "execute_result"
    }
   ],
   "source": [
    "df = service.get_stats(mode)\n",
    "avg=float(df.iloc[0].average)\n",
    "median=float(df.iloc[0].median_)\n",
    "percentile=float(df.iloc[0].percentile)\n",
    "df"
   ]
  },
  {
   "cell_type": "markdown",
   "id": "33cdd649-59d5-42af-a350-deb388f0c91c",
   "metadata": {},
   "source": [
    "Empathy Positive Score"
   ]
  },
  {
   "cell_type": "code",
   "execution_count": 8,
   "id": "0cfaaaad-6151-4e9c-9849-87a1df24289c",
   "metadata": {},
   "outputs": [
    {
     "name": "stdout",
     "output_type": "stream",
     "text": [
      "pd positive score\n"
     ]
    },
    {
     "data": {
      "text/html": [
       "<div>\n",
       "<style scoped>\n",
       "    .dataframe tbody tr th:only-of-type {\n",
       "        vertical-align: middle;\n",
       "    }\n",
       "\n",
       "    .dataframe tbody tr th {\n",
       "        vertical-align: top;\n",
       "    }\n",
       "\n",
       "    .dataframe thead th {\n",
       "        text-align: right;\n",
       "    }\n",
       "</style>\n",
       "<table border=\"1\" class=\"dataframe\">\n",
       "  <thead>\n",
       "    <tr style=\"text-align: right;\">\n",
       "      <th></th>\n",
       "      <th>id</th>\n",
       "      <th>topic</th>\n",
       "      <th>nb_positive_form</th>\n",
       "      <th>nb_negative_form</th>\n",
       "      <th>score</th>\n",
       "    </tr>\n",
       "  </thead>\n",
       "  <tbody>\n",
       "    <tr>\n",
       "      <th>0</th>\n",
       "      <td>7709</td>\n",
       "      <td>people</td>\n",
       "      <td>269</td>\n",
       "      <td>5</td>\n",
       "      <td>53.80</td>\n",
       "    </tr>\n",
       "    <tr>\n",
       "      <th>1</th>\n",
       "      <td>7691</td>\n",
       "      <td>person</td>\n",
       "      <td>184</td>\n",
       "      <td>4</td>\n",
       "      <td>46.00</td>\n",
       "    </tr>\n",
       "    <tr>\n",
       "      <th>2</th>\n",
       "      <td>7681</td>\n",
       "      <td>wish</td>\n",
       "      <td>486</td>\n",
       "      <td>11</td>\n",
       "      <td>44.18</td>\n",
       "    </tr>\n",
       "    <tr>\n",
       "      <th>3</th>\n",
       "      <td>7808</td>\n",
       "      <td>become</td>\n",
       "      <td>159</td>\n",
       "      <td>4</td>\n",
       "      <td>39.75</td>\n",
       "    </tr>\n",
       "    <tr>\n",
       "      <th>4</th>\n",
       "      <td>7659</td>\n",
       "      <td>everyone</td>\n",
       "      <td>250</td>\n",
       "      <td>7</td>\n",
       "      <td>35.71</td>\n",
       "    </tr>\n",
       "    <tr>\n",
       "      <th>5</th>\n",
       "      <td>7667</td>\n",
       "      <td>better</td>\n",
       "      <td>524</td>\n",
       "      <td>15</td>\n",
       "      <td>34.93</td>\n",
       "    </tr>\n",
       "    <tr>\n",
       "      <th>6</th>\n",
       "      <td>7763</td>\n",
       "      <td>successful</td>\n",
       "      <td>227</td>\n",
       "      <td>7</td>\n",
       "      <td>32.43</td>\n",
       "    </tr>\n",
       "    <tr>\n",
       "      <th>7</th>\n",
       "      <td>7689</td>\n",
       "      <td>peace</td>\n",
       "      <td>581</td>\n",
       "      <td>18</td>\n",
       "      <td>32.28</td>\n",
       "    </tr>\n",
       "    <tr>\n",
       "      <th>8</th>\n",
       "      <td>7665</td>\n",
       "      <td>professional</td>\n",
       "      <td>193</td>\n",
       "      <td>6</td>\n",
       "      <td>32.17</td>\n",
       "    </tr>\n",
       "    <tr>\n",
       "      <th>9</th>\n",
       "      <td>7694</td>\n",
       "      <td>world</td>\n",
       "      <td>690</td>\n",
       "      <td>23</td>\n",
       "      <td>30.00</td>\n",
       "    </tr>\n",
       "  </tbody>\n",
       "</table>\n",
       "</div>"
      ],
      "text/plain": [
       "     id         topic  nb_positive_form  nb_negative_form  score\n",
       "0  7709        people               269                 5  53.80\n",
       "1  7691        person               184                 4  46.00\n",
       "2  7681          wish               486                11  44.18\n",
       "3  7808        become               159                 4  39.75\n",
       "4  7659      everyone               250                 7  35.71\n",
       "5  7667        better               524                15  34.93\n",
       "6  7763    successful               227                 7  32.43\n",
       "7  7689         peace               581                18  32.28\n",
       "8  7665  professional               193                 6  32.17\n",
       "9  7694         world               690                23  30.00"
      ]
     },
     "execution_count": 8,
     "metadata": {},
     "output_type": "execute_result"
    }
   ],
   "source": [
    "empathy_category=\"pd\"\n",
    "df = service.get_scores(mode, question_nb, empathy_category, positive=True, denominator_thresold=0, numerator_thresold=avg, debug=False, sentiment=True)\n",
    "print(f\"{empathy_category} positive score\")\n",
    "df.head(10)"
   ]
  },
  {
   "cell_type": "code",
   "execution_count": 9,
   "id": "d10beb9b-6982-4c6c-bf3d-fc96b9712763",
   "metadata": {},
   "outputs": [
    {
     "name": "stdout",
     "output_type": "stream",
     "text": [
      "empathy negative score\n"
     ]
    },
    {
     "data": {
      "text/html": [
       "<div>\n",
       "<style scoped>\n",
       "    .dataframe tbody tr th:only-of-type {\n",
       "        vertical-align: middle;\n",
       "    }\n",
       "\n",
       "    .dataframe tbody tr th {\n",
       "        vertical-align: top;\n",
       "    }\n",
       "\n",
       "    .dataframe thead th {\n",
       "        text-align: right;\n",
       "    }\n",
       "</style>\n",
       "<table border=\"1\" class=\"dataframe\">\n",
       "  <thead>\n",
       "    <tr style=\"text-align: right;\">\n",
       "      <th></th>\n",
       "      <th>id</th>\n",
       "      <th>topic</th>\n",
       "      <th>nb_negative_form</th>\n",
       "      <th>nb_positive_form</th>\n",
       "      <th>score</th>\n",
       "    </tr>\n",
       "  </thead>\n",
       "  <tbody>\n",
       "  </tbody>\n",
       "</table>\n",
       "</div>"
      ],
      "text/plain": [
       "Empty DataFrame\n",
       "Columns: [id, topic, nb_negative_form, nb_positive_form, score]\n",
       "Index: []"
      ]
     },
     "execution_count": 9,
     "metadata": {},
     "output_type": "execute_result"
    }
   ],
   "source": [
    "empathy_category=\"empathy\"\n",
    "df = service.get_scores(mode, question_nb, empathy_category, positive=False, denominator_thresold=0, numerator_thresold=avg, sentiment=True, debug=False)\n",
    "print(f\"{empathy_category} negative score\")\n",
    "df.head(10)\n"
   ]
  },
  {
   "cell_type": "markdown",
   "id": "c7889c79-d26d-45e3-b199-6a6e7da1ec43",
   "metadata": {},
   "source": [
    "Low Noise\n"
   ]
  },
  {
   "cell_type": "code",
   "execution_count": 6,
   "id": "182a0400-27b5-475a-a042-c7ec7fd96bc1",
   "metadata": {},
   "outputs": [
    {
     "name": "stdout",
     "output_type": "stream",
     "text": [
      "Low noise pd negative score\n"
     ]
    },
    {
     "data": {
      "text/html": [
       "<div>\n",
       "<style scoped>\n",
       "    .dataframe tbody tr th:only-of-type {\n",
       "        vertical-align: middle;\n",
       "    }\n",
       "\n",
       "    .dataframe tbody tr th {\n",
       "        vertical-align: top;\n",
       "    }\n",
       "\n",
       "    .dataframe thead th {\n",
       "        text-align: right;\n",
       "    }\n",
       "</style>\n",
       "<table border=\"1\" class=\"dataframe\">\n",
       "  <thead>\n",
       "    <tr style=\"text-align: right;\">\n",
       "      <th></th>\n",
       "      <th>id</th>\n",
       "      <th>topic</th>\n",
       "      <th>nb_negative_form</th>\n",
       "      <th>nb_positive_form</th>\n",
       "      <th>score</th>\n",
       "    </tr>\n",
       "  </thead>\n",
       "  <tbody>\n",
       "  </tbody>\n",
       "</table>\n",
       "</div>"
      ],
      "text/plain": [
       "Empty DataFrame\n",
       "Columns: [id, topic, nb_negative_form, nb_positive_form, score]\n",
       "Index: []"
      ]
     },
     "execution_count": 6,
     "metadata": {},
     "output_type": "execute_result"
    }
   ],
   "source": [
    "empathy_category=\"pd\"\n",
    "df = service.get_scores(mode, question_nb, empathy_category, positive=False, denominator_thresold=0, numerator_thresold=5)\n",
    "df=df[df.score > 6] \n",
    "print(f\"Low noise {empathy_category} negative score\")\n",
    "df.head(10)"
   ]
  },
  {
   "cell_type": "code",
   "execution_count": 7,
   "id": "7821b820-503d-4504-9069-4a0886cc9f46",
   "metadata": {},
   "outputs": [
    {
     "name": "stdout",
     "output_type": "stream",
     "text": [
      "Low noise pd negative score\n"
     ]
    },
    {
     "data": {
      "text/html": [
       "<div>\n",
       "<style scoped>\n",
       "    .dataframe tbody tr th:only-of-type {\n",
       "        vertical-align: middle;\n",
       "    }\n",
       "\n",
       "    .dataframe tbody tr th {\n",
       "        vertical-align: top;\n",
       "    }\n",
       "\n",
       "    .dataframe thead th {\n",
       "        text-align: right;\n",
       "    }\n",
       "</style>\n",
       "<table border=\"1\" class=\"dataframe\">\n",
       "  <thead>\n",
       "    <tr style=\"text-align: right;\">\n",
       "      <th></th>\n",
       "      <th>id</th>\n",
       "      <th>topic</th>\n",
       "      <th>nb_positive_form</th>\n",
       "      <th>nb_negative_form</th>\n",
       "      <th>score</th>\n",
       "    </tr>\n",
       "  </thead>\n",
       "  <tbody>\n",
       "    <tr>\n",
       "      <th>0</th>\n",
       "      <td>8555</td>\n",
       "      <td>numerous</td>\n",
       "      <td>42</td>\n",
       "      <td>NaN</td>\n",
       "      <td>420.00</td>\n",
       "    </tr>\n",
       "    <tr>\n",
       "      <th>1</th>\n",
       "      <td>8446</td>\n",
       "      <td>authentic</td>\n",
       "      <td>7</td>\n",
       "      <td>NaN</td>\n",
       "      <td>70.00</td>\n",
       "    </tr>\n",
       "    <tr>\n",
       "      <th>2</th>\n",
       "      <td>7813</td>\n",
       "      <td>levels</td>\n",
       "      <td>9</td>\n",
       "      <td>1.00</td>\n",
       "      <td>9.00</td>\n",
       "    </tr>\n",
       "    <tr>\n",
       "      <th>3</th>\n",
       "      <td>8510</td>\n",
       "      <td>whether</td>\n",
       "      <td>8</td>\n",
       "      <td>1.00</td>\n",
       "      <td>8.00</td>\n",
       "    </tr>\n",
       "    <tr>\n",
       "      <th>4</th>\n",
       "      <td>8301</td>\n",
       "      <td>officer</td>\n",
       "      <td>7</td>\n",
       "      <td>1.00</td>\n",
       "      <td>7.00</td>\n",
       "    </tr>\n",
       "  </tbody>\n",
       "</table>\n",
       "</div>"
      ],
      "text/plain": [
       "     id      topic  nb_positive_form  nb_negative_form  score\n",
       "0  8555   numerous                42               NaN 420.00\n",
       "1  8446  authentic                 7               NaN  70.00\n",
       "2  7813     levels                 9              1.00   9.00\n",
       "3  8510    whether                 8              1.00   8.00\n",
       "4  8301    officer                 7              1.00   7.00"
      ]
     },
     "execution_count": 7,
     "metadata": {},
     "output_type": "execute_result"
    }
   ],
   "source": [
    "df = service.get_scores(mode, question_nb, empathy_category, positive=True, denominator_thresold=0, numerator_thresold=5)\n",
    "df=df[df.score > 6] \n",
    "print(f\"Low noise {empathy_category} negative score\")\n",
    "df.head(10)"
   ]
  },
  {
   "cell_type": "code",
   "execution_count": null,
   "id": "e2a900c2-568c-4057-8ad5-571761eb2215",
   "metadata": {},
   "outputs": [],
   "source": []
  }
 ],
 "metadata": {
  "kernelspec": {
   "display_name": "Python 3 (ipykernel)",
   "language": "python",
   "name": "python3"
  },
  "language_info": {
   "codemirror_mode": {
    "name": "ipython",
    "version": 3
   },
   "file_extension": ".py",
   "mimetype": "text/x-python",
   "name": "python",
   "nbconvert_exporter": "python",
   "pygments_lexer": "ipython3",
   "version": "3.11.3"
  }
 },
 "nbformat": 4,
 "nbformat_minor": 5
}
